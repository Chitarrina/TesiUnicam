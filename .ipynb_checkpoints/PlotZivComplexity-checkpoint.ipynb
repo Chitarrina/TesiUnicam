{
 "cells": [
  {
   "cell_type": "code",
   "execution_count": 2,
   "metadata": {},
   "outputs": [],
   "source": [
    "import os,sys\n",
    "import pandas as pd\n",
    "import numpy as np\n",
    "import matplotlib.pyplot as plt\n",
    "\n",
    "def delimited_lempel_ziv_complexity(sequence, delimiter):\n",
    "   \n",
    "    sub_strings = set()\n",
    "    n = len(sequence)\n",
    "\n",
    "    ind = 0\n",
    "    inc = 1\n",
    "    while True:\n",
    "        if ind + inc > len(sequence):\n",
    "            break\n",
    "        sub_str = sequence[ind : ind + inc]\n",
    "        if delimiter in sub_str: \n",
    "            ind = ind + inc\n",
    "            inc = 1\n",
    "        else:\n",
    "            if sub_str in sub_strings:\n",
    "                inc += 1\n",
    "    \n",
    "            else:\n",
    "                sub_strings.add(sub_str)\n",
    "                ind = ind + inc\n",
    "                inc = 1\n",
    "    return len(sub_strings)\n",
    "\n",
    "\n",
    "\n"
   ]
  },
  {
   "cell_type": "code",
   "execution_count": 3,
   "metadata": {},
   "outputs": [],
   "source": [
    "path = \"C:/Users/leonn/Documents/Progetti/TesiUnicam/Data/Output\"\n",
    "target = \"C:/Users/leonn/Documents/Progetti/TesiUnicam/Data/Plot/\"\n",
    "\n",
    "#del path ricava una lista di tutti i file e directory\n",
    "listComuni = os.listdir(path)\n",
    "\n",
    "#if not os.path.exists(path+\"/Output\")\n",
    "#os.mkdir(path+\"/Plot\")\n",
    "for comune in listComuni:\n",
    "    os.mkdir(target+comune)"
   ]
  },
  {
   "cell_type": "code",
   "execution_count": 4,
   "metadata": {},
   "outputs": [
    {
     "name": "stdout",
     "output_type": "stream",
     "text": [
      "1\n"
     ]
    }
   ],
   "source": [
    "import os\n",
    "import sys\n",
    "\n",
    "#inserire il path dell'output\n",
    "path = \"C:/Users/leonn/Documents/Progetti/TesiUnicam/Data/Output\"\n",
    "\n",
    "#inserire il path target dove salvare i plot\n",
    "target = \"C:/Users/leonn/Documents/Progetti/TesiUnicam/Data/Plot/\"\n",
    "\n",
    "\n",
    "filepaths = [path]\n",
    "arrayfiles = []\n",
    "for root,dir,files in os.walk(os.path.normpath(path), topdown=True):\n",
    "    if len(files) > 0:\n",
    "        for file in files:\n",
    "            filepaths.append(os.path.join(root,file).replace(\"\\\\\",\"/\"))\n",
    "            arrayfiles.append(file)\n",
    "filepaths.remove(\"C:/Users/leonn/Documents/Progetti/TesiUnicam/Data/Output\")\n",
    "print(len(filepaths))"
   ]
  },
  {
   "cell_type": "code",
   "execution_count": 1,
   "metadata": {},
   "outputs": [
    {
     "ename": "ModuleNotFoundError",
     "evalue": "No module named 'camelcase'",
     "output_type": "error",
     "traceback": [
      "\u001b[1;31m---------------------------------------------------------------------------\u001b[0m",
      "\u001b[1;31mModuleNotFoundError\u001b[0m                       Traceback (most recent call last)",
      "\u001b[1;32m~\\AppData\\Local\\Temp/ipykernel_24260/929630661.py\u001b[0m in \u001b[0;36m<module>\u001b[1;34m\u001b[0m\n\u001b[1;32m----> 1\u001b[1;33m \u001b[1;32mimport\u001b[0m \u001b[0mcamelcase\u001b[0m\u001b[1;33m\u001b[0m\u001b[1;33m\u001b[0m\u001b[0m\n\u001b[0m\u001b[0;32m      2\u001b[0m \u001b[1;33m\u001b[0m\u001b[0m\n\u001b[0;32m      3\u001b[0m \u001b[0mcount\u001b[0m \u001b[1;33m=\u001b[0m \u001b[1;36m0\u001b[0m\u001b[1;33m\u001b[0m\u001b[1;33m\u001b[0m\u001b[0m\n\u001b[0;32m      4\u001b[0m \u001b[1;32mfor\u001b[0m \u001b[0mlog\u001b[0m \u001b[1;32min\u001b[0m \u001b[0mfilepaths\u001b[0m\u001b[1;33m:\u001b[0m\u001b[1;33m\u001b[0m\u001b[1;33m\u001b[0m\u001b[0m\n\u001b[0;32m      5\u001b[0m     \u001b[0mdf\u001b[0m\u001b[1;33m=\u001b[0m\u001b[0mpd\u001b[0m\u001b[1;33m.\u001b[0m\u001b[0mread_csv\u001b[0m\u001b[1;33m(\u001b[0m\u001b[0mlog\u001b[0m\u001b[1;33m,\u001b[0m \u001b[0mencoding\u001b[0m\u001b[1;33m=\u001b[0m\u001b[1;34m'utf-8'\u001b[0m\u001b[1;33m,\u001b[0m \u001b[0mon_bad_lines\u001b[0m\u001b[1;33m=\u001b[0m\u001b[1;34m'skip'\u001b[0m\u001b[1;33m)\u001b[0m\u001b[1;33m\u001b[0m\u001b[1;33m\u001b[0m\u001b[0m\n",
      "\u001b[1;31mModuleNotFoundError\u001b[0m: No module named 'camelcase'"
     ]
    }
   ],
   "source": [
    "\n",
    "import pm4py\n",
    "\n",
    "count = 0\n",
    "for log in filepaths:\n",
    "    #df=pd.read_csv(log, encoding='utf-8', on_bad_lines='skip')\n",
    "    \n",
    "    xeslog = pm4py.read_xes(log)\n",
    "    df = pm4py.convert_to_dataframe(xeslog)\n",
    "\n",
    "    log = log.replace('C:/Users/leonn/Documents/Progetti/TesiUnicam/Data/Output/','')\n",
    "    log = log.replace('.csv','')\n",
    "\n",
    "    print(log)\n",
    "    df1 = df[['id istanza','renamed']]\n",
    "    \n",
    "    df2=df1.groupby(\"id istanza\")[\"renamed\"].sum().reset_index()\n",
    "    vec1 = []\n",
    "    \n",
    "    #vec2 = []\n",
    "    df3 = df['stato inizio'].groupby(df['id istanza']).first()\n",
    "    \n",
    "    #vec2 = df3.to_datetime(format='%d/%M/%Y')\n",
    "\n",
    "\n",
    "    for i in range(len(df2)):\n",
    "        join='*'.join(df2.loc[0:i,'renamed'])\n",
    "        unique_complexity=delimited_lempel_ziv_complexity(join, \"*\")\n",
    "        vec1.append(unique_complexity)\n",
    "    \n",
    "    import matplotlib.pyplot as plt\n",
    "    plt.plot(vec1)\n",
    "    \n",
    "    \n",
    "    #plt.xticks([0,10], [\"a\", \"b\"], rotation ='vertical')\n",
    "    \n",
    "    plt.title(log)\n",
    " \n",
    "    #plt.xlim(0,2000)\n",
    "    #plt.ylim(0,15)\n",
    "\n",
    "    plt.savefig(target+log+\".png\",dpi=300)\n",
    "    count = count + 1\n",
    "    \n",
    "\n",
    "    plt.clf()"
   ]
  },
  {
   "cell_type": "code",
   "execution_count": 53,
   "metadata": {},
   "outputs": [
    {
     "ename": "NameError",
     "evalue": "name 'col1' is not defined",
     "output_type": "error",
     "traceback": [
      "\u001b[1;31m---------------------------------------------------------------------------\u001b[0m",
      "\u001b[1;31mNameError\u001b[0m                                 Traceback (most recent call last)",
      "\u001b[1;32m~\\AppData\\Local\\Temp/ipykernel_17608/1736032168.py\u001b[0m in \u001b[0;36m<module>\u001b[1;34m\u001b[0m\n\u001b[0;32m      1\u001b[0m \u001b[0mdf\u001b[0m\u001b[1;33m[\u001b[0m\u001b[1;34m'stato inizio'\u001b[0m\u001b[1;33m]\u001b[0m \u001b[1;33m=\u001b[0m  \u001b[0mpd\u001b[0m\u001b[1;33m.\u001b[0m\u001b[0mto_datetime\u001b[0m\u001b[1;33m(\u001b[0m\u001b[0mdf\u001b[0m\u001b[1;33m[\u001b[0m\u001b[1;34m'stato inizio'\u001b[0m\u001b[1;33m]\u001b[0m\u001b[1;33m,\u001b[0m \u001b[0mformat\u001b[0m\u001b[1;33m=\u001b[0m\u001b[1;34m'%d/%m/%Y'\u001b[0m\u001b[1;33m)\u001b[0m\u001b[1;33m\u001b[0m\u001b[1;33m\u001b[0m\u001b[0m\n\u001b[1;32m----> 2\u001b[1;33m \u001b[0mdf3\u001b[0m \u001b[1;33m=\u001b[0m \u001b[0mdf\u001b[0m\u001b[1;33m[\u001b[0m\u001b[1;34m'stato inizio'\u001b[0m\u001b[1;33m]\u001b[0m\u001b[1;33m.\u001b[0m\u001b[0mgroupby\u001b[0m\u001b[1;33m(\u001b[0m\u001b[0mdf\u001b[0m\u001b[1;33m[\u001b[0m\u001b[1;34m'id istanza'\u001b[0m\u001b[1;33m]\u001b[0m\u001b[1;33m)\u001b[0m\u001b[1;33m.\u001b[0m\u001b[0mfirst\u001b[0m\u001b[1;33m(\u001b[0m\u001b[1;33m)\u001b[0m\u001b[1;33m.\u001b[0m\u001b[0mrename\u001b[0m\u001b[1;33m(\u001b[0m\u001b[0mcolumns\u001b[0m\u001b[1;33m=\u001b[0m\u001b[1;33m{\u001b[0m\u001b[0mcol1\u001b[0m\u001b[1;33m:\u001b[0m\u001b[1;34m'stato inizio'\u001b[0m\u001b[1;33m}\u001b[0m\u001b[1;33m)\u001b[0m\u001b[1;33m\u001b[0m\u001b[1;33m\u001b[0m\u001b[0m\n\u001b[0m\u001b[0;32m      3\u001b[0m \u001b[1;33m\u001b[0m\u001b[0m\n\u001b[0;32m      4\u001b[0m \u001b[1;33m\u001b[0m\u001b[0m\n\u001b[0;32m      5\u001b[0m \u001b[1;33m\u001b[0m\u001b[0m\n",
      "\u001b[1;31mNameError\u001b[0m: name 'col1' is not defined"
     ]
    }
   ],
   "source": [
    "\n",
    "\n",
    "\n",
    "\n",
    "df['stato inizio'] =  pd.to_datetime(df['stato inizio'], format='%d/%m/%Y')\n",
    "\n",
    "df3.reset_index()\n",
    "\n",
    "df3 = df['stato inizio'].groupby(df['id istanza']).first().rename(columns={col1:'stato inizio'})\n",
    "\n",
    "\n",
    "\n",
    "df3\n",
    "\n",
    "#vec3 = df3.to_datetime(vec3,format='%d/%m/%Y')\n",
    "\n",
    "#vec3"
   ]
  },
  {
   "cell_type": "code",
   "execution_count": null,
   "metadata": {},
   "outputs": [],
   "source": [
    "\n",
    "    plt.savefig(target+log+\".png\",dpi=300)\n",
    "    count = count + 1\n",
    "    \n",
    "\n",
    "    plt.clf()"
   ]
  },
  {
   "cell_type": "code",
   "execution_count": 1,
   "metadata": {},
   "outputs": [
    {
     "name": "stdout",
     "output_type": "stream",
     "text": [
      "Collecting pm4py\n",
      "  Using cached pm4py-2.2.29-py3-none-any.whl (1.8 MB)\n",
      "Collecting pyvis\n",
      "  Using cached pyvis-0.2.1.tar.gz (21 kB)\n",
      "Collecting pydotplus\n",
      "  Using cached pydotplus-2.0.2.tar.gz (278 kB)\n",
      "Requirement already satisfied: networkx in c:\\users\\leonn\\anaconda3\\lib\\site-packages (from pm4py) (2.6.3)\n",
      "Requirement already satisfied: matplotlib in c:\\users\\leonn\\anaconda3\\lib\\site-packages (from pm4py) (3.4.3)\n",
      "Requirement already satisfied: tqdm in c:\\users\\leonn\\anaconda3\\lib\\site-packages (from pm4py) (4.62.3)\n",
      "Requirement already satisfied: intervaltree in c:\\users\\leonn\\anaconda3\\lib\\site-packages (from pm4py) (3.1.0)\n",
      "Collecting graphviz\n",
      "  Using cached graphviz-0.20.1-py3-none-any.whl (47 kB)\n",
      "Requirement already satisfied: lxml in c:\\users\\leonn\\anaconda3\\lib\\site-packages (from pm4py) (4.6.3)\n",
      "Collecting jsonpickle\n",
      "  Using cached jsonpickle-2.2.0-py2.py3-none-any.whl (39 kB)\n",
      "Requirement already satisfied: pytz in c:\\users\\leonn\\anaconda3\\lib\\site-packages (from pm4py) (2021.3)\n",
      "Collecting cvxopt\n",
      "  Downloading cvxopt-1.3.0-cp39-cp39-win_amd64.whl (12.7 MB)\n",
      "Requirement already satisfied: numpy>=1.19.5 in c:\\users\\leonn\\anaconda3\\lib\\site-packages (from pm4py) (1.20.3)\n",
      "Collecting stringdist\n",
      "  Using cached StringDist-1.0.9.tar.gz (7.4 kB)\n",
      "Requirement already satisfied: scipy in c:\\users\\leonn\\anaconda3\\lib\\site-packages (from pm4py) (1.7.1)\n",
      "Requirement already satisfied: pandas>=1.1.5 in c:\\users\\leonn\\anaconda3\\lib\\site-packages (from pm4py) (1.3.4)\n",
      "Collecting deprecation\n",
      "  Using cached deprecation-2.1.0-py2.py3-none-any.whl (11 kB)\n",
      "Requirement already satisfied: sympy in c:\\users\\leonn\\anaconda3\\lib\\site-packages (from pm4py) (1.9)\n",
      "Requirement already satisfied: python-dateutil>=2.7.3 in c:\\users\\leonn\\anaconda3\\lib\\site-packages (from pandas>=1.1.5->pm4py) (2.8.2)\n",
      "Requirement already satisfied: six>=1.5 in c:\\users\\leonn\\anaconda3\\lib\\site-packages (from python-dateutil>=2.7.3->pandas>=1.1.5->pm4py) (1.16.0)\n",
      "Requirement already satisfied: packaging in c:\\users\\leonn\\anaconda3\\lib\\site-packages (from deprecation->pm4py) (21.0)\n",
      "Requirement already satisfied: sortedcontainers<3.0,>=2.0 in c:\\users\\leonn\\anaconda3\\lib\\site-packages (from intervaltree->pm4py) (2.4.0)\n",
      "Requirement already satisfied: cycler>=0.10 in c:\\users\\leonn\\anaconda3\\lib\\site-packages (from matplotlib->pm4py) (0.10.0)\n",
      "Requirement already satisfied: pillow>=6.2.0 in c:\\users\\leonn\\anaconda3\\lib\\site-packages (from matplotlib->pm4py) (8.4.0)\n",
      "Requirement already satisfied: pyparsing>=2.2.1 in c:\\users\\leonn\\anaconda3\\lib\\site-packages (from matplotlib->pm4py) (3.0.4)\n",
      "Requirement already satisfied: kiwisolver>=1.0.1 in c:\\users\\leonn\\anaconda3\\lib\\site-packages (from matplotlib->pm4py) (1.3.1)\n",
      "Requirement already satisfied: jinja2>=2.9.6 in c:\\users\\leonn\\anaconda3\\lib\\site-packages (from pyvis->pm4py) (2.11.3)\n",
      "Requirement already satisfied: ipython>=5.3.0 in c:\\users\\leonn\\anaconda3\\lib\\site-packages (from pyvis->pm4py) (7.29.0)\n",
      "Requirement already satisfied: matplotlib-inline in c:\\users\\leonn\\anaconda3\\lib\\site-packages (from ipython>=5.3.0->pyvis->pm4py) (0.1.2)\n",
      "Requirement already satisfied: colorama in c:\\users\\leonn\\anaconda3\\lib\\site-packages (from ipython>=5.3.0->pyvis->pm4py) (0.4.4)\n",
      "Requirement already satisfied: backcall in c:\\users\\leonn\\anaconda3\\lib\\site-packages (from ipython>=5.3.0->pyvis->pm4py) (0.2.0)\n",
      "Requirement already satisfied: traitlets>=4.2 in c:\\users\\leonn\\anaconda3\\lib\\site-packages (from ipython>=5.3.0->pyvis->pm4py) (5.1.0)\n",
      "Requirement already satisfied: pygments in c:\\users\\leonn\\anaconda3\\lib\\site-packages (from ipython>=5.3.0->pyvis->pm4py) (2.10.0)\n",
      "Requirement already satisfied: jedi>=0.16 in c:\\users\\leonn\\anaconda3\\lib\\site-packages (from ipython>=5.3.0->pyvis->pm4py) (0.18.0)\n",
      "Requirement already satisfied: pickleshare in c:\\users\\leonn\\anaconda3\\lib\\site-packages (from ipython>=5.3.0->pyvis->pm4py) (0.7.5)\n",
      "Requirement already satisfied: setuptools>=18.5 in c:\\users\\leonn\\anaconda3\\lib\\site-packages (from ipython>=5.3.0->pyvis->pm4py) (58.0.4)\n",
      "Requirement already satisfied: prompt-toolkit!=3.0.0,!=3.0.1,<3.1.0,>=2.0.0 in c:\\users\\leonn\\anaconda3\\lib\\site-packages (from ipython>=5.3.0->pyvis->pm4py) (3.0.20)\n",
      "Requirement already satisfied: decorator in c:\\users\\leonn\\anaconda3\\lib\\site-packages (from ipython>=5.3.0->pyvis->pm4py) (5.1.0)\n",
      "Requirement already satisfied: parso<0.9.0,>=0.8.0 in c:\\users\\leonn\\anaconda3\\lib\\site-packages (from jedi>=0.16->ipython>=5.3.0->pyvis->pm4py) (0.8.2)\n",
      "Requirement already satisfied: MarkupSafe>=0.23 in c:\\users\\leonn\\anaconda3\\lib\\site-packages (from jinja2>=2.9.6->pyvis->pm4py) (1.1.1)\n",
      "Requirement already satisfied: wcwidth in c:\\users\\leonn\\anaconda3\\lib\\site-packages (from prompt-toolkit!=3.0.0,!=3.0.1,<3.1.0,>=2.0.0->ipython>=5.3.0->pyvis->pm4py) (0.2.5)\n",
      "Requirement already satisfied: mpmath>=0.19 in c:\\users\\leonn\\anaconda3\\lib\\site-packages (from sympy->pm4py) (1.2.1)\n",
      "Building wheels for collected packages: pydotplus, pyvis, stringdist\n",
      "  Building wheel for pydotplus (setup.py): started\n",
      "  Building wheel for pydotplus (setup.py): finished with status 'done'\n",
      "  Created wheel for pydotplus: filename=pydotplus-2.0.2-py3-none-any.whl size=24575 sha256=87aa975fe664a6c6af47719ab8ecea647670fd6d9ad703a81d05b8d6723dbb9f\n",
      "  Stored in directory: c:\\users\\leonn\\appdata\\local\\pip\\cache\\wheels\\89\\e5\\de\\6966007cf223872eedfbebbe0e074534e72e9128c8fd4b55eb\n",
      "  Building wheel for pyvis (setup.py): started\n",
      "  Building wheel for pyvis (setup.py): finished with status 'done'\n",
      "  Created wheel for pyvis: filename=pyvis-0.2.1-py3-none-any.whl size=23688 sha256=9664db324903e972d676d87de304da55b340889dae677e34bdc75e0fd6897f02\n",
      "  Stored in directory: c:\\users\\leonn\\appdata\\local\\pip\\cache\\wheels\\05\\fb\\37\\c8dfe38ad21c8cc91f40a0f9e0196cfdd4534e817d0416a0ae\n",
      "  Building wheel for stringdist (setup.py): started\n",
      "  Building wheel for stringdist (setup.py): finished with status 'done'\n",
      "  Created wheel for stringdist: filename=StringDist-1.0.9-py3-none-any.whl size=5191 sha256=a6832bf4602a2b4048ca9a87b12fab87e91418bd80e95936cb33f0a4f08c45c9\n",
      "  Stored in directory: c:\\users\\leonn\\appdata\\local\\pip\\cache\\wheels\\77\\24\\44\\b12b9612fd07e141e6b4f1bb2001c621515bd0cac1014a783a\n",
      "Successfully built pydotplus pyvis stringdist\n",
      "Installing collected packages: jsonpickle, stringdist, pyvis, pydotplus, graphviz, deprecation, cvxopt, pm4py\n",
      "Successfully installed cvxopt-1.3.0 deprecation-2.1.0 graphviz-0.20.1 jsonpickle-2.2.0 pm4py-2.2.29 pydotplus-2.0.2 pyvis-0.2.1 stringdist-1.0.9\n"
     ]
    }
   ],
   "source": [
    "!pip install pm4py"
   ]
  },
  {
   "cell_type": "code",
   "execution_count": null,
   "metadata": {},
   "outputs": [],
   "source": []
  }
 ],
 "metadata": {
  "interpreter": {
   "hash": "0b93892f3809fc80ac7578f96ad0742a1095fcdc2ff2616d25bfd64e6d2b0f22"
  },
  "kernelspec": {
   "display_name": "Python 3 (ipykernel)",
   "language": "python",
   "name": "python3"
  },
  "language_info": {
   "codemirror_mode": {
    "name": "ipython",
    "version": 3
   },
   "file_extension": ".py",
   "mimetype": "text/x-python",
   "name": "python",
   "nbconvert_exporter": "python",
   "pygments_lexer": "ipython3",
   "version": "3.9.7"
  }
 },
 "nbformat": 4,
 "nbformat_minor": 4
}
