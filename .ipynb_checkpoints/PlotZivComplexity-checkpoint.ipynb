{
 "cells": [
  {
   "cell_type": "code",
   "execution_count": 1,
   "metadata": {},
   "outputs": [],
   "source": [
    "import os,sys\n",
    "import pandas as pd\n",
    "import numpy as np\n",
    "import matplotlib.pyplot as plt\n",
    "\n",
    "def delimited_lempel_ziv_complexity(sequence, delimiter):\n",
    "   \n",
    "    sub_strings = set()\n",
    "    n = len(sequence)\n",
    "\n",
    "    ind = 0\n",
    "    inc = 1\n",
    "    while True:\n",
    "        if ind + inc > len(sequence):\n",
    "            break\n",
    "        sub_str = sequence[ind : ind + inc]\n",
    "        if delimiter in sub_str: \n",
    "            ind = ind + inc\n",
    "            inc = 1\n",
    "        else:\n",
    "            if sub_str in sub_strings:\n",
    "                inc += 1\n",
    "    \n",
    "            else:\n",
    "                sub_strings.add(sub_str)\n",
    "                ind = ind + inc\n",
    "                inc = 1\n",
    "    return len(sub_strings)\n",
    "\n",
    "\n",
    "\n"
   ]
  },
  {
   "cell_type": "code",
   "execution_count": 2,
   "metadata": {},
   "outputs": [],
   "source": [
    "path = \"C:/Users/leonn/Documents/Progetti/TesiUnicam/Data/Output\"\n",
    "target = \"C:/Users/leonn/Documents/Progetti/TesiUnicam/Data/Plot/\"\n",
    "\n",
    "#del path ricava una lista di tutti i file e directory\n",
    "listComuni = os.listdir(path)\n",
    "\n",
    "#if not os.path.exists(path+\"/Output\")\n",
    "#os.mkdir(path+\"/Plot\")\n",
    "for comune in listComuni:\n",
    "    os.mkdir(target+comune)"
   ]
  },
  {
   "cell_type": "code",
   "execution_count": 3,
   "metadata": {},
   "outputs": [
    {
     "name": "stdout",
     "output_type": "stream",
     "text": [
      "1\n"
     ]
    }
   ],
   "source": [
    "import os\n",
    "import sys\n",
    "\n",
    "#inserire il path dell'output\n",
    "path = \"C:/Users/leonn/Documents/Progetti/TesiUnicam/Data/Output\"\n",
    "\n",
    "#inserire il path target dove salvare i plot\n",
    "target = \"C:/Users/leonn/Documents/Progetti/TesiUnicam/Data/Plot/\"\n",
    "\n",
    "\n",
    "filepaths = [path]\n",
    "arrayfiles = []\n",
    "for root,dir,files in os.walk(os.path.normpath(path), topdown=True):\n",
    "    if len(files) > 0:\n",
    "        for file in files:\n",
    "            filepaths.append(os.path.join(root,file).replace(\"\\\\\",\"/\"))\n",
    "            arrayfiles.append(file)\n",
    "filepaths.remove(\"C:/Users/leonn/Documents/Progetti/TesiUnicam/Data/Output\")\n",
    "print(len(filepaths))"
   ]
  },
  {
   "cell_type": "code",
   "execution_count": 4,
   "metadata": {},
   "outputs": [
    {
     "ename": "NameError",
     "evalue": "name 'pm4py' is not defined",
     "output_type": "error",
     "traceback": [
      "\u001b[1;31m---------------------------------------------------------------------------\u001b[0m",
      "\u001b[1;31mNameError\u001b[0m                                 Traceback (most recent call last)",
      "\u001b[1;32m~\\AppData\\Local\\Temp/ipykernel_22648/3312052936.py\u001b[0m in \u001b[0;36m<module>\u001b[1;34m\u001b[0m\n\u001b[0;32m      2\u001b[0m \u001b[1;32mfor\u001b[0m \u001b[0mlog\u001b[0m \u001b[1;32min\u001b[0m \u001b[0mfilepaths\u001b[0m\u001b[1;33m:\u001b[0m\u001b[1;33m\u001b[0m\u001b[1;33m\u001b[0m\u001b[0m\n\u001b[0;32m      3\u001b[0m \u001b[1;33m\u001b[0m\u001b[0m\n\u001b[1;32m----> 4\u001b[1;33m     \u001b[0mxeslog\u001b[0m \u001b[1;33m=\u001b[0m \u001b[0mpm4py\u001b[0m\u001b[1;33m.\u001b[0m\u001b[0mread_xes\u001b[0m\u001b[1;33m(\u001b[0m\u001b[0mlog\u001b[0m\u001b[1;33m)\u001b[0m\u001b[1;33m\u001b[0m\u001b[1;33m\u001b[0m\u001b[0m\n\u001b[0m\u001b[0;32m      5\u001b[0m     \u001b[0mdf\u001b[0m \u001b[1;33m=\u001b[0m \u001b[0mpm4py\u001b[0m\u001b[1;33m.\u001b[0m\u001b[0mconvert_to_dataframe\u001b[0m\u001b[1;33m(\u001b[0m\u001b[0mxeslog\u001b[0m\u001b[1;33m)\u001b[0m\u001b[1;33m\u001b[0m\u001b[1;33m\u001b[0m\u001b[0m\n\u001b[0;32m      6\u001b[0m \u001b[1;33m\u001b[0m\u001b[0m\n",
      "\u001b[1;31mNameError\u001b[0m: name 'pm4py' is not defined"
     ]
    }
   ],
   "source": [
    "import pm4py\n",
    "\n",
    "count = 0\n",
    "for log in filepaths:\n",
    "\n",
    "    xeslog = pm4py.read_xes(log)\n",
    "    df = pm4py.convert_to_dataframe(xeslog)\n",
    "\n",
    "    df=pd.read_csv(log, encoding='utf-8', on_bad_lines='skip')\n",
    "    \n",
    "    \n",
    "\n",
    "\n",
    "\n",
    "    log = log.replace('C:/Users/leonn/Documents/Progetti/TesiUnicam/Data/Output/','')\n",
    "    log = log.replace('.csv','')\n",
    "\n",
    "    print(log)\n",
    "    df1 = df[['id istanza','renamed']]\n",
    "    \n",
    "    df2=df1.groupby(\"id istanza\")[\"renamed\"].sum().reset_index()\n",
    "    vec1 = []\n",
    "    \n",
    "    vec2 = []\n",
    "    df3 = df['stato inizio'].groupby(df['id istanza']).first()\n",
    "    \n",
    "    vec2 = df3.to_datetime(format='%d/%M/%Y')\n",
    "\n",
    "\n",
    "    for i in range(len(df2)):\n",
    "        join='*'.join(df2.loc[0:i,'renamed'])\n",
    "        unique_complexity=delimited_lempel_ziv_complexity(join, \"*\")\n",
    "        vec1.append(unique_complexity)\n",
    "    \n",
    "    import matplotlib.pyplot as plt\n",
    "    plt.plot(vec2,vec1)\n",
    "    \n",
    "    \n",
    "    plt.xticks([0,10], [\"a\", \"b\"], rotation ='vertical')\n",
    "    \n",
    "    plt.title(log)\n",
    " \n",
    "    #plt.xlim(0,2000)\n",
    "    #plt.ylim(0,15)\n",
    "\n",
    "    plt.savefig(target+log+\".png\",dpi=300)\n",
    "    count = count + 1\n",
    "    \n",
    "\n",
    "    plt.clf()"
   ]
  },
  {
   "cell_type": "code",
   "execution_count": 53,
   "metadata": {},
   "outputs": [
    {
     "ename": "NameError",
     "evalue": "name 'col1' is not defined",
     "output_type": "error",
     "traceback": [
      "\u001b[1;31m---------------------------------------------------------------------------\u001b[0m",
      "\u001b[1;31mNameError\u001b[0m                                 Traceback (most recent call last)",
      "\u001b[1;32m~\\AppData\\Local\\Temp/ipykernel_17608/1736032168.py\u001b[0m in \u001b[0;36m<module>\u001b[1;34m\u001b[0m\n\u001b[0;32m      1\u001b[0m \u001b[0mdf\u001b[0m\u001b[1;33m[\u001b[0m\u001b[1;34m'stato inizio'\u001b[0m\u001b[1;33m]\u001b[0m \u001b[1;33m=\u001b[0m  \u001b[0mpd\u001b[0m\u001b[1;33m.\u001b[0m\u001b[0mto_datetime\u001b[0m\u001b[1;33m(\u001b[0m\u001b[0mdf\u001b[0m\u001b[1;33m[\u001b[0m\u001b[1;34m'stato inizio'\u001b[0m\u001b[1;33m]\u001b[0m\u001b[1;33m,\u001b[0m \u001b[0mformat\u001b[0m\u001b[1;33m=\u001b[0m\u001b[1;34m'%d/%m/%Y'\u001b[0m\u001b[1;33m)\u001b[0m\u001b[1;33m\u001b[0m\u001b[1;33m\u001b[0m\u001b[0m\n\u001b[1;32m----> 2\u001b[1;33m \u001b[0mdf3\u001b[0m \u001b[1;33m=\u001b[0m \u001b[0mdf\u001b[0m\u001b[1;33m[\u001b[0m\u001b[1;34m'stato inizio'\u001b[0m\u001b[1;33m]\u001b[0m\u001b[1;33m.\u001b[0m\u001b[0mgroupby\u001b[0m\u001b[1;33m(\u001b[0m\u001b[0mdf\u001b[0m\u001b[1;33m[\u001b[0m\u001b[1;34m'id istanza'\u001b[0m\u001b[1;33m]\u001b[0m\u001b[1;33m)\u001b[0m\u001b[1;33m.\u001b[0m\u001b[0mfirst\u001b[0m\u001b[1;33m(\u001b[0m\u001b[1;33m)\u001b[0m\u001b[1;33m.\u001b[0m\u001b[0mrename\u001b[0m\u001b[1;33m(\u001b[0m\u001b[0mcolumns\u001b[0m\u001b[1;33m=\u001b[0m\u001b[1;33m{\u001b[0m\u001b[0mcol1\u001b[0m\u001b[1;33m:\u001b[0m\u001b[1;34m'stato inizio'\u001b[0m\u001b[1;33m}\u001b[0m\u001b[1;33m)\u001b[0m\u001b[1;33m\u001b[0m\u001b[1;33m\u001b[0m\u001b[0m\n\u001b[0m\u001b[0;32m      3\u001b[0m \u001b[1;33m\u001b[0m\u001b[0m\n\u001b[0;32m      4\u001b[0m \u001b[1;33m\u001b[0m\u001b[0m\n\u001b[0;32m      5\u001b[0m \u001b[1;33m\u001b[0m\u001b[0m\n",
      "\u001b[1;31mNameError\u001b[0m: name 'col1' is not defined"
     ]
    }
   ],
   "source": [
    "\n",
    "\n",
    "\n",
    "\n",
    "df['stato inizio'] =  pd.to_datetime(df['stato inizio'], format='%d/%m/%Y')\n",
    "\n",
    "df3.reset_index()\n",
    "\n",
    "df3 = df['stato inizio'].groupby(df['id istanza']).first().rename(columns={col1:'stato inizio'})\n",
    "\n",
    "\n",
    "\n",
    "df3\n",
    "\n",
    "#vec3 = df3.to_datetime(vec3,format='%d/%m/%Y')\n",
    "\n",
    "#vec3"
   ]
  },
  {
   "cell_type": "code",
   "execution_count": null,
   "metadata": {},
   "outputs": [],
   "source": [
    "\n",
    "    plt.savefig(target+log+\".png\",dpi=300)\n",
    "    count = count + 1\n",
    "    \n",
    "\n",
    "    plt.clf()"
   ]
  },
  {
   "cell_type": "code",
   "execution_count": 36,
   "metadata": {},
   "outputs": [],
   "source": [
    "#df1"
   ]
  }
 ],
 "metadata": {
  "interpreter": {
   "hash": "0b93892f3809fc80ac7578f96ad0742a1095fcdc2ff2616d25bfd64e6d2b0f22"
  },
  "kernelspec": {
   "display_name": "Python 3 (ipykernel)",
   "language": "python",
   "name": "python3"
  },
  "language_info": {
   "codemirror_mode": {
    "name": "ipython",
    "version": 3
   },
   "file_extension": ".py",
   "mimetype": "text/x-python",
   "name": "python",
   "nbconvert_exporter": "python",
   "pygments_lexer": "ipython3",
   "version": "3.9.7"
  }
 },
 "nbformat": 4,
 "nbformat_minor": 4
}
