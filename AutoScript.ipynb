{
 "cells": [
  {
   "cell_type": "code",
   "execution_count": 23,
   "id": "3531429a",
   "metadata": {},
   "outputs": [],
   "source": [
    "import os\n",
    "\n",
    "#Inserire il path del set di dati dove si trovano i comuni\n",
    "path = \"C:/Users/leonn/Documents/Progetti/TesiUnicam/Data/\"\n",
    "\n",
    "#del path ricava una lista di tutti i file e directory\n",
    "listComuni = os.listdir(path)\n",
    "\n",
    "#rimuovere dalla lista i file (sono quelli contrassegnati da una estensione \".\")\n",
    "for comune in listComuni:\n",
    "    if \".\" in comune or \"Output\" in comune or \"Plot\" in comune:\n",
    "        listComuni.remove(comune)"
   ]
  },
  {
   "cell_type": "code",
   "execution_count": 24,
   "id": "0714614e",
   "metadata": {},
   "outputs": [
    {
     "name": "stdout",
     "output_type": "stream",
     "text": [
      "C:/Users/leonn/Documents/Progetti/TesiUnicam/Data/Lodi/Istanze.csv\n",
      "C:/Users/leonn/Documents/Progetti/TesiUnicam/Data/marcaria/Istanze.csv\n",
      "C:/Users/leonn/Documents/Progetti/TesiUnicam/Data/Marsala/Istanze.csv\n",
      "C:/Users/leonn/Documents/Progetti/TesiUnicam/Data/naro/Istanze.csv\n",
      "C:/Users/leonn/Documents/Progetti/TesiUnicam/Data/Paullo/Istanze.csv\n",
      "C:/Users/leonn/Documents/Progetti/TesiUnicam/Data/pianengo/Istanze.csv\n",
      "C:/Users/leonn/Documents/Progetti/TesiUnicam/Data/pieve dolmi/Istanze.csv\n",
      "C:/Users/leonn/Documents/Progetti/TesiUnicam/Data/Ponte Buggianese/Istanze.csv\n",
      "C:/Users/leonn/Documents/Progetti/TesiUnicam/Data/Quartu Sant' Elena/Istanze.csv\n",
      "C:/Users/leonn/Documents/Progetti/TesiUnicam/Data/rivoli veronese/Istanze.csv\n",
      "C:/Users/leonn/Documents/Progetti/TesiUnicam/Data/San Giorgio Mantovano/Istanze.csv\n",
      "C:/Users/leonn/Documents/Progetti/TesiUnicam/Data/sassano/Istanze.csv\n",
      "C:/Users/leonn/Documents/Progetti/TesiUnicam/Data/scido/Istanze.csv\n",
      "C:/Users/leonn/Documents/Progetti/TesiUnicam/Data/Sermide e Felonica/Istanze.csv\n",
      "C:/Users/leonn/Documents/Progetti/TesiUnicam/Data/Treviolo/Istanze.csv\n",
      "C:/Users/leonn/Documents/Progetti/TesiUnicam/Data/Udine/Istanze.csv\n"
     ]
    }
   ],
   "source": [
    "#il seguente script stampa tutti i path per arrivare ai file \"Istanze.csv\"\n",
    "for comune in listComuni:\n",
    "    comune = path+comune+\"/Istanze.csv\"\n",
    "    print(comune)"
   ]
  },
  {
   "cell_type": "code",
   "execution_count": 21,
   "id": "0fd58cda",
   "metadata": {},
   "outputs": [],
   "source": [
    "#if not os.path.exists(path+\"/Output\")\n",
    "#os.mkdir(path+\"/Output\")\n",
    "for comune in listComuni:\n",
    "    os.mkdir(path+\"/Output/\"+comune)"
   ]
  },
  {
   "cell_type": "code",
   "execution_count": 25,
   "id": "ac5ecb31",
   "metadata": {
    "scrolled": true
   },
   "outputs": [
    {
     "name": "stdout",
     "output_type": "stream",
     "text": [
      "Sto processando il comune Lodi...\n",
      "Lodi processato!\n",
      "\n",
      "Sto processando il comune marcaria...\n",
      "marcaria processato!\n",
      "\n",
      "Sto processando il comune Marsala...\n",
      "Marsala processato!\n",
      "\n",
      "Sto processando il comune naro...\n",
      "naro processato!\n",
      "\n",
      "Sto processando il comune Paullo...\n",
      "Paullo processato!\n",
      "\n",
      "Sto processando il comune pianengo...\n",
      "pianengo processato!\n",
      "\n",
      "Sto processando il comune pieve dolmi...\n",
      "pieve dolmi processato!\n",
      "\n",
      "Sto processando il comune Ponte Buggianese...\n",
      "Ponte Buggianese processato!\n",
      "\n",
      "Sto processando il comune Quartu Sant' Elena...\n",
      "Quartu Sant' Elena processato!\n",
      "\n",
      "Sto processando il comune rivoli veronese...\n",
      "rivoli veronese processato!\n",
      "\n",
      "Sto processando il comune San Giorgio Mantovano...\n",
      "San Giorgio Mantovano processato!\n",
      "\n",
      "Sto processando il comune sassano...\n"
     ]
    },
    {
     "ename": "KeyboardInterrupt",
     "evalue": "",
     "output_type": "error",
     "traceback": [
      "\u001b[1;31m---------------------------------------------------------------------------\u001b[0m",
      "\u001b[1;31mKeyboardInterrupt\u001b[0m                         Traceback (most recent call last)",
      "\u001b[1;32m~\\AppData\\Local\\Temp/ipykernel_13256/714171333.py\u001b[0m in \u001b[0;36m<module>\u001b[1;34m\u001b[0m\n\u001b[0;32m     38\u001b[0m     \u001b[1;32mfor\u001b[0m \u001b[0ml\u001b[0m \u001b[1;32min\u001b[0m \u001b[0mlabels\u001b[0m\u001b[1;33m:\u001b[0m\u001b[1;33m\u001b[0m\u001b[1;33m\u001b[0m\u001b[0m\n\u001b[0;32m     39\u001b[0m         \u001b[0mnames\u001b[0m\u001b[1;33m.\u001b[0m\u001b[0msetdefault\u001b[0m\u001b[1;33m(\u001b[0m\u001b[0ml\u001b[0m\u001b[1;33m,\u001b[0m \u001b[0mlen\u001b[0m\u001b[1;33m(\u001b[0m\u001b[0mnames\u001b[0m\u001b[1;33m)\u001b[0m\u001b[1;33m+\u001b[0m\u001b[1;36m1\u001b[0m\u001b[1;33m)\u001b[0m\u001b[1;33m\u001b[0m\u001b[1;33m\u001b[0m\u001b[0m\n\u001b[1;32m---> 40\u001b[1;33m         \u001b[0mdf1_droped\u001b[0m\u001b[1;33m[\u001b[0m\u001b[1;34m'coded activity'\u001b[0m\u001b[1;33m]\u001b[0m \u001b[1;33m=\u001b[0m \u001b[0mdf1_droped\u001b[0m\u001b[1;33m[\u001b[0m\u001b[1;34m'activity'\u001b[0m\u001b[1;33m]\u001b[0m\u001b[1;33m.\u001b[0m\u001b[0mmap\u001b[0m\u001b[1;33m(\u001b[0m\u001b[0mnames\u001b[0m\u001b[1;33m)\u001b[0m\u001b[1;33m\u001b[0m\u001b[1;33m\u001b[0m\u001b[0m\n\u001b[0m\u001b[0;32m     41\u001b[0m \u001b[1;33m\u001b[0m\u001b[0m\n\u001b[0;32m     42\u001b[0m     \u001b[1;31m#blocco 4 (richiede blocco3)\u001b[0m\u001b[1;33m\u001b[0m\u001b[1;33m\u001b[0m\u001b[0m\n",
      "\u001b[1;32m~\\anaconda3\\lib\\site-packages\\pandas\\core\\series.py\u001b[0m in \u001b[0;36mmap\u001b[1;34m(self, arg, na_action)\u001b[0m\n\u001b[0;32m   4159\u001b[0m         \u001b[0mdtype\u001b[0m\u001b[1;33m:\u001b[0m \u001b[0mobject\u001b[0m\u001b[1;33m\u001b[0m\u001b[1;33m\u001b[0m\u001b[0m\n\u001b[0;32m   4160\u001b[0m         \"\"\"\n\u001b[1;32m-> 4161\u001b[1;33m         \u001b[0mnew_values\u001b[0m \u001b[1;33m=\u001b[0m \u001b[0msuper\u001b[0m\u001b[1;33m(\u001b[0m\u001b[1;33m)\u001b[0m\u001b[1;33m.\u001b[0m\u001b[0m_map_values\u001b[0m\u001b[1;33m(\u001b[0m\u001b[0marg\u001b[0m\u001b[1;33m,\u001b[0m \u001b[0mna_action\u001b[0m\u001b[1;33m=\u001b[0m\u001b[0mna_action\u001b[0m\u001b[1;33m)\u001b[0m\u001b[1;33m\u001b[0m\u001b[1;33m\u001b[0m\u001b[0m\n\u001b[0m\u001b[0;32m   4162\u001b[0m         return self._constructor(new_values, index=self.index).__finalize__(\n\u001b[0;32m   4163\u001b[0m             \u001b[0mself\u001b[0m\u001b[1;33m,\u001b[0m \u001b[0mmethod\u001b[0m\u001b[1;33m=\u001b[0m\u001b[1;34m\"map\"\u001b[0m\u001b[1;33m\u001b[0m\u001b[1;33m\u001b[0m\u001b[0m\n",
      "\u001b[1;32m~\\anaconda3\\lib\\site-packages\\pandas\\core\\base.py\u001b[0m in \u001b[0;36m_map_values\u001b[1;34m(self, mapper, na_action)\u001b[0m\n\u001b[0;32m    841\u001b[0m \u001b[1;33m\u001b[0m\u001b[0m\n\u001b[0;32m    842\u001b[0m             \u001b[0mindexer\u001b[0m \u001b[1;33m=\u001b[0m \u001b[0mmapper\u001b[0m\u001b[1;33m.\u001b[0m\u001b[0mindex\u001b[0m\u001b[1;33m.\u001b[0m\u001b[0mget_indexer\u001b[0m\u001b[1;33m(\u001b[0m\u001b[0mvalues\u001b[0m\u001b[1;33m)\u001b[0m\u001b[1;33m\u001b[0m\u001b[1;33m\u001b[0m\u001b[0m\n\u001b[1;32m--> 843\u001b[1;33m             \u001b[0mnew_values\u001b[0m \u001b[1;33m=\u001b[0m \u001b[0malgorithms\u001b[0m\u001b[1;33m.\u001b[0m\u001b[0mtake_nd\u001b[0m\u001b[1;33m(\u001b[0m\u001b[0mmapper\u001b[0m\u001b[1;33m.\u001b[0m\u001b[0m_values\u001b[0m\u001b[1;33m,\u001b[0m \u001b[0mindexer\u001b[0m\u001b[1;33m)\u001b[0m\u001b[1;33m\u001b[0m\u001b[1;33m\u001b[0m\u001b[0m\n\u001b[0m\u001b[0;32m    844\u001b[0m \u001b[1;33m\u001b[0m\u001b[0m\n\u001b[0;32m    845\u001b[0m             \u001b[1;32mreturn\u001b[0m \u001b[0mnew_values\u001b[0m\u001b[1;33m\u001b[0m\u001b[1;33m\u001b[0m\u001b[0m\n",
      "\u001b[1;32m~\\anaconda3\\lib\\site-packages\\pandas\\core\\array_algos\\take.py\u001b[0m in \u001b[0;36mtake_nd\u001b[1;34m(arr, indexer, axis, fill_value, allow_fill)\u001b[0m\n\u001b[0;32m    106\u001b[0m \u001b[1;33m\u001b[0m\u001b[0m\n\u001b[0;32m    107\u001b[0m     \u001b[0marr\u001b[0m \u001b[1;33m=\u001b[0m \u001b[0mnp\u001b[0m\u001b[1;33m.\u001b[0m\u001b[0masarray\u001b[0m\u001b[1;33m(\u001b[0m\u001b[0marr\u001b[0m\u001b[1;33m)\u001b[0m\u001b[1;33m\u001b[0m\u001b[1;33m\u001b[0m\u001b[0m\n\u001b[1;32m--> 108\u001b[1;33m     \u001b[1;32mreturn\u001b[0m \u001b[0m_take_nd_ndarray\u001b[0m\u001b[1;33m(\u001b[0m\u001b[0marr\u001b[0m\u001b[1;33m,\u001b[0m \u001b[0mindexer\u001b[0m\u001b[1;33m,\u001b[0m \u001b[0maxis\u001b[0m\u001b[1;33m,\u001b[0m \u001b[0mfill_value\u001b[0m\u001b[1;33m,\u001b[0m \u001b[0mallow_fill\u001b[0m\u001b[1;33m)\u001b[0m\u001b[1;33m\u001b[0m\u001b[1;33m\u001b[0m\u001b[0m\n\u001b[0m\u001b[0;32m    109\u001b[0m \u001b[1;33m\u001b[0m\u001b[0m\n\u001b[0;32m    110\u001b[0m \u001b[1;33m\u001b[0m\u001b[0m\n",
      "\u001b[1;32m~\\anaconda3\\lib\\site-packages\\pandas\\core\\array_algos\\take.py\u001b[0m in \u001b[0;36m_take_nd_ndarray\u001b[1;34m(arr, indexer, axis, fill_value, allow_fill)\u001b[0m\n\u001b[0;32m    123\u001b[0m         \u001b[0mindexer\u001b[0m \u001b[1;33m=\u001b[0m \u001b[0mensure_platform_int\u001b[0m\u001b[1;33m(\u001b[0m\u001b[0mindexer\u001b[0m\u001b[1;33m)\u001b[0m\u001b[1;33m\u001b[0m\u001b[1;33m\u001b[0m\u001b[0m\n\u001b[0;32m    124\u001b[0m \u001b[1;33m\u001b[0m\u001b[0m\n\u001b[1;32m--> 125\u001b[1;33m     indexer, dtype, fill_value, mask_info = _take_preprocess_indexer_and_fill_value(\n\u001b[0m\u001b[0;32m    126\u001b[0m         \u001b[0marr\u001b[0m\u001b[1;33m,\u001b[0m \u001b[0mindexer\u001b[0m\u001b[1;33m,\u001b[0m \u001b[0mfill_value\u001b[0m\u001b[1;33m,\u001b[0m \u001b[0mallow_fill\u001b[0m\u001b[1;33m\u001b[0m\u001b[1;33m\u001b[0m\u001b[0m\n\u001b[0;32m    127\u001b[0m     )\n",
      "\u001b[1;32m~\\anaconda3\\lib\\site-packages\\pandas\\core\\array_algos\\take.py\u001b[0m in \u001b[0;36m_take_preprocess_indexer_and_fill_value\u001b[1;34m(arr, indexer, fill_value, allow_fill)\u001b[0m\n\u001b[0;32m    532\u001b[0m         \u001b[1;32mif\u001b[0m \u001b[0mdtype\u001b[0m \u001b[1;33m!=\u001b[0m \u001b[0marr\u001b[0m\u001b[1;33m.\u001b[0m\u001b[0mdtype\u001b[0m\u001b[1;33m:\u001b[0m\u001b[1;33m\u001b[0m\u001b[1;33m\u001b[0m\u001b[0m\n\u001b[0;32m    533\u001b[0m             \u001b[1;31m# check if promotion is actually required based on indexer\u001b[0m\u001b[1;33m\u001b[0m\u001b[1;33m\u001b[0m\u001b[0m\n\u001b[1;32m--> 534\u001b[1;33m             \u001b[0mmask\u001b[0m \u001b[1;33m=\u001b[0m \u001b[0mindexer\u001b[0m \u001b[1;33m==\u001b[0m \u001b[1;33m-\u001b[0m\u001b[1;36m1\u001b[0m\u001b[1;33m\u001b[0m\u001b[1;33m\u001b[0m\u001b[0m\n\u001b[0m\u001b[0;32m    535\u001b[0m             \u001b[0mneeds_masking\u001b[0m \u001b[1;33m=\u001b[0m \u001b[0mmask\u001b[0m\u001b[1;33m.\u001b[0m\u001b[0many\u001b[0m\u001b[1;33m(\u001b[0m\u001b[1;33m)\u001b[0m\u001b[1;33m\u001b[0m\u001b[1;33m\u001b[0m\u001b[0m\n\u001b[0;32m    536\u001b[0m             \u001b[0mmask_info\u001b[0m \u001b[1;33m=\u001b[0m \u001b[0mmask\u001b[0m\u001b[1;33m,\u001b[0m \u001b[0mneeds_masking\u001b[0m\u001b[1;33m\u001b[0m\u001b[1;33m\u001b[0m\u001b[0m\n",
      "\u001b[1;31mKeyboardInterrupt\u001b[0m: "
     ]
    }
   ],
   "source": [
    "import pandas\n",
    "import csv\n",
    "\n",
    "def renamedLabel(df):\n",
    "    vec = []\n",
    "    fChar = ord('a')\n",
    "    df_sort = df.sort_values('activity')\n",
    "    precEl = df_sort.at[0, 'activity']\n",
    "    #attraversamento dataframe per rinonimare\n",
    "    for el in df_sort['activity']:\n",
    "        if(el == precEl):\n",
    "            vec.append(chr(fChar))\n",
    "        else:\n",
    "            precEl = el\n",
    "            fChar += 1\n",
    "            vec.append(chr(fChar))\n",
    "    df_sort.insert(df_sort.shape[1], \"renamed\", vec)\n",
    "    return df_sort.sort_index()\n",
    "\n",
    "for comune in listComuni:\n",
    "    print(\"Sto processando il comune \"+comune+\"...\")\n",
    "    #blocco 1\n",
    "\n",
    "    df1 = pandas.read_csv(path+comune+\"/\" + \"Istanze.csv\", encoding='ISO-8859-1', low_memory='false')\n",
    "\n",
    "    df1_droped=df1.drop(['id passo', 'id iter', 'versione iter','desc iter',  'flg iter default', 'area iter', 'id istanza padre', 'id flusso', 'id flusso padre',\n",
    "                        'id flusso istanza padre', 'id istanza padre', 'id stato', 'ordine generazione', 'stato inizio ms', 'stato fine ms','utente super user','utente internal user' ], axis=1 )\n",
    "    \n",
    "    df1_droped = df1_droped.fillna('')\n",
    "\n",
    "    #blocco 2\n",
    "    df1_droped['activity'] = df1_droped['tipo stato'].str.cat(df1_droped['desc stato'],sep='_')\n",
    "\n",
    "    #blocco 3 (quello con piu necessità computazionale)\n",
    "    # per ottimizzare usare il parallelismo o eventuali librerie di set/map\n",
    "    labels=df1_droped['activity'] \n",
    "    names = {}\n",
    "    for l in labels:\n",
    "        names.setdefault(l, len(names)+1)\n",
    "        df1_droped['coded activity'] = df1_droped['activity'].map(names)\n",
    "\n",
    "    #blocco 4 (richiede blocco3)\n",
    "    #vec = []\n",
    "    #for i in df1_droped['coded activity'] :\n",
    "    #    i=int(i)\n",
    "    #    i=i+96\n",
    "    #    vec.append(chr(i))\n",
    "    #df1_droped.insert(9, \"renamed\", vec)\n",
    "\n",
    "    df1_droped = renamedLabel(df1_droped)\n",
    "\n",
    "    #blocco 5\n",
    "    group = df1_droped.groupby('nome iter')  \n",
    "    for k, gr in group:\n",
    "        # do your stuff instead of print\n",
    "        #print(k)\n",
    "        #print(type(gr)) # This will output <class 'pandas.core.frame.DataFrame'>\n",
    "        #print(gr)\n",
    "        # You can save each 'gr' in a csv as follows\n",
    "        gr.to_csv(path+'/Output/'+comune+'/{}.csv'.format(k))\n",
    "    print(comune+\" processato!\\n\")"
   ]
  }
 ],
 "metadata": {
  "kernelspec": {
   "display_name": "Python 3 (ipykernel)",
   "language": "python",
   "name": "python3"
  },
  "language_info": {
   "codemirror_mode": {
    "name": "ipython",
    "version": 3
   },
   "file_extension": ".py",
   "mimetype": "text/x-python",
   "name": "python",
   "nbconvert_exporter": "python",
   "pygments_lexer": "ipython3",
   "version": "3.9.7"
  }
 },
 "nbformat": 4,
 "nbformat_minor": 5
}
