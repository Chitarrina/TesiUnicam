{
 "cells": [
  {
   "cell_type": "code",
   "execution_count": 10,
   "id": "3531429a",
   "metadata": {},
   "outputs": [],
   "source": [
    "import os\n",
    "\n",
    "#Inserire il path del set di dati dove si trovano i comuni\n",
    "path = \"C:/Users/leonn/Documents/Progetti/TesiUnicam/Data/\"\n",
    "\n",
    "#del path ricava una lista di tutti i file e directory\n",
    "listComuni = os.listdir(path)\n",
    "\n",
    "#rimuovere dalla lista i file (sono quelli contrassegnati da una estensione \".\")\n",
    "for comune in listComuni:\n",
    "    if \".\" in comune or \"Output\" in comune or \"Plot\" in comune:\n",
    "        listComuni.remove(comune)"
   ]
  },
  {
   "cell_type": "code",
   "execution_count": 11,
   "id": "0714614e",
   "metadata": {},
   "outputs": [
    {
     "name": "stdout",
     "output_type": "stream",
     "text": [
      "C:/Users/leonn/Documents/Progetti/TesiUnicam/Data/Udine/Istanze.csv\n"
     ]
    }
   ],
   "source": [
    "#il seguente script stampa tutti i path per arrivare ai file \"Istanze.csv\"\n",
    "for comune in listComuni:\n",
    "    comune = path+comune+\"/Istanze.csv\"\n",
    "    print(comune)"
   ]
  },
  {
   "cell_type": "code",
   "execution_count": 12,
   "id": "0fd58cda",
   "metadata": {},
   "outputs": [],
   "source": [
    "#if not os.path.exists(path+\"/Output\")\n",
    "#os.mkdir(path+\"/Output\")\n",
    "for comune in listComuni:\n",
    "    os.mkdir(path+\"/Output/\"+comune)"
   ]
  },
  {
   "cell_type": "code",
   "execution_count": 13,
   "id": "ac5ecb31",
   "metadata": {
    "scrolled": true
   },
   "outputs": [
    {
     "name": "stdout",
     "output_type": "stream",
     "text": [
      "Sto processando il comune Udine...\n",
      "Udine processato!\n",
      "\n"
     ]
    }
   ],
   "source": [
    "import pandas\n",
    "import csv\n",
    "\n",
    "def renamedLabel(df):\n",
    "    vec = []\n",
    "    fChar = ord('a')\n",
    "    df_sort = df.sort_values('activity')\n",
    "    precEl = df_sort.at[0, 'activity']\n",
    "    #attraversamento dataframe per rinonimare\n",
    "    for el in df_sort['activity']:\n",
    "        if(el == precEl):\n",
    "            vec.append(chr(fChar))\n",
    "        else:\n",
    "            precEl = el\n",
    "            fChar += 1\n",
    "            vec.append(chr(fChar))\n",
    "    df_sort.insert(df_sort.shape[1], \"renamed\", vec)\n",
    "    return df_sort.sort_index()\n",
    "\n",
    "for comune in listComuni:\n",
    "    print(\"Sto processando il comune \"+comune+\"...\")\n",
    "    #blocco 1\n",
    "\n",
    "    df1 = pandas.read_csv(path+comune+\"/\" + \"Istanze.csv\", encoding='ISO-8859-1', low_memory='false')\n",
    "\n",
    "    df1_droped=df1.drop(['id passo', 'id iter', 'versione iter','desc iter',  'flg iter default', 'area iter', 'id istanza padre', 'id flusso', 'id flusso padre',\n",
    "                        'id flusso istanza padre', 'id istanza padre', 'id stato', 'ordine generazione', 'stato inizio ms', 'stato fine ms','utente super user','utente internal user' ], axis=1 )\n",
    "    \n",
    "    df1_droped = df1_droped.fillna('')\n",
    "\n",
    "    #blocco 2\n",
    "    df1_droped['activity'] = df1_droped['tipo stato'].str.cat(df1_droped['desc stato'],sep='_')\n",
    "\n",
    "    #blocco 3 (quello con piu necessità computazionale)\n",
    "    # per ottimizzare usare il parallelismo o eventuali librerie di set/map\n",
    "    labels=df1_droped['activity'] \n",
    "    names = {}\n",
    "    for l in labels:\n",
    "        names.setdefault(l, len(names)+1)\n",
    "        df1_droped['coded activity'] = df1_droped['activity'].map(names)\n",
    "\n",
    "    #blocco 4 (richiede blocco3)\n",
    "    vec = []\n",
    "    for i in df1_droped['coded activity'] :\n",
    "        i=int(i)\n",
    "        i=i+96\n",
    "        vec.append(chr(i))\n",
    "    df1_droped.insert(9, \"renamed\", vec)\n",
    "\n",
    "    #df1_droped = renamedLabel(df1_droped)\n",
    "\n",
    "    #blocco 5\n",
    "    group = df1_droped.groupby('nome iter')  \n",
    "    for k, gr in group:\n",
    "        # do your stuff instead of print\n",
    "        #print(k)\n",
    "        #print(type(gr)) # This will output <class 'pandas.core.frame.DataFrame'>\n",
    "        #print(gr)\n",
    "        # You can save each 'gr' in a csv as follows\n",
    "        gr.to_csv(path+'/Output/'+comune+'/{}.csv'.format(k))\n",
    "    print(comune+\" processato!\\n\")"
   ]
  }
 ],
 "metadata": {
  "interpreter": {
   "hash": "0b93892f3809fc80ac7578f96ad0742a1095fcdc2ff2616d25bfd64e6d2b0f22"
  },
  "kernelspec": {
   "display_name": "Python 3.9.7 ('base')",
   "language": "python",
   "name": "python3"
  },
  "language_info": {
   "codemirror_mode": {
    "name": "ipython",
    "version": 3
   },
   "file_extension": ".py",
   "mimetype": "text/x-python",
   "name": "python",
   "nbconvert_exporter": "python",
   "pygments_lexer": "ipython3",
   "version": "3.9.7"
  }
 },
 "nbformat": 4,
 "nbformat_minor": 5
}
